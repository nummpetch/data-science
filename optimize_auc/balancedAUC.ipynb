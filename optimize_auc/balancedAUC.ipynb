{
 "cells": [
  {
   "cell_type": "code",
   "execution_count": 1,
   "metadata": {
    "collapsed": true
   },
   "outputs": [],
   "source": [
    "import numpy as np"
   ]
  },
  {
   "cell_type": "code",
   "execution_count": 101,
   "metadata": {},
   "outputs": [],
   "source": [
    "def get_permute(num):\n",
    "    int_range = np.arange(0, int(pow(2, num)))\n",
    "    permute = (int_range[:,None] & (1 << np.arange(num)) > 0).astype('float')\n",
    "    return permute[np.sum(permute, axis=1) == int(num/2)]\n",
    "\n",
    "def AUC(x, n):\n",
    "    m = int(n/2)\n",
    "    X = np.copy(x)\n",
    "    for i in range(n):\n",
    "        X[:,i] *= i+1\n",
    "    return (np.sum(X, axis=1) - (m*(m+1)/2))/(m*m)\n",
    "    \n",
    "def ACC(X, n):\n",
    "    m = int(n/2)\n",
    "    return np.sum(X[:, m:], axis=1)/m"
   ]
  },
  {
   "cell_type": "code",
   "execution_count": null,
   "metadata": {},
   "outputs": [
    {
     "name": "stdout",
     "output_type": "stream",
     "text": [
      "n=4: P=5, Q=0 R=9, S=0 C=1, D=0.00 A=1, B=15 I=0.067\n",
      "n=6: P=62, Q=4 R=113, S=1 C=0, D=15.50 A=10, B=190 I=0.053\n",
      "n=8: P=762, Q=52 R=1459, S=34 C=0, D=14.65 A=108, B=2415 I=0.045\n",
      "n=10: P=9416, Q=618 R=19742, S=766 C=0, D=15.24 A=1084, B=31626 I=0.034\n",
      "n=12: P=120374, Q=7369 R=273600, S=13997 C=0, D=16.34 A=11086, B=426426 I=0.026\n"
     ]
    }
   ],
   "source": [
    "# print get_permute(4)\n",
    "# AUC(get_permute(4), 4)\n",
    "for i in range(4, 17, 2):\n",
    "    X = get_permute(i)\n",
    "    auc_vals = AUC(X, i)\n",
    "    acc_vals = ACC(X, i)\n",
    "#     while \n",
    "    P = Q = R = S = A = B = 0\n",
    "    for k in range(auc_vals.shape[0]):\n",
    "        for l in range(auc_vals.shape[0]):\n",
    "            P += (auc_vals[k] > auc_vals[l]) and (acc_vals[k] == acc_vals[l])\n",
    "            Q += (auc_vals[k] == auc_vals[l]) and (acc_vals[k] > acc_vals[l])\n",
    "            R += (auc_vals[k] > auc_vals[l]) and (acc_vals[k] > acc_vals[l])\n",
    "            S += (auc_vals[k] > auc_vals[l]) and (acc_vals[k] < acc_vals[l])\n",
    "            if l > k:\n",
    "                A += (auc_vals[k] == auc_vals[l]) and (acc_vals[k] == acc_vals[l]) # indifferency\n",
    "                B += k != l\n",
    "    C = R/(R+S)\n",
    "    I = float(A)/B\n",
    "    if Q == 0:\n",
    "        D = 0\n",
    "    else:\n",
    "        D = float(P)/Q\n",
    "    print \"n={}:\".format(i), 'P={},'.format(P), 'Q={}'.format(Q), 'R={},'.format(R), 'S={}'.format(S),\\\n",
    "                            'C={},'.format(C), 'D={:.2f}'.format(D), 'A={},'.format(A), 'B={}'.format(B),\\\n",
    "                            'I={:.3f}'.format(I)"
   ]
  },
  {
   "cell_type": "code",
   "execution_count": null,
   "metadata": {
    "collapsed": true
   },
   "outputs": [],
   "source": []
  }
 ],
 "metadata": {
  "kernelspec": {
   "display_name": "Python [conda env:anaconda2]",
   "language": "python",
   "name": "conda-env-anaconda2-py"
  },
  "language_info": {
   "codemirror_mode": {
    "name": "ipython",
    "version": 2
   },
   "file_extension": ".py",
   "mimetype": "text/x-python",
   "name": "python",
   "nbconvert_exporter": "python",
   "pygments_lexer": "ipython2",
   "version": "2.7.14"
  }
 },
 "nbformat": 4,
 "nbformat_minor": 2
}
