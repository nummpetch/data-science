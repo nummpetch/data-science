{
 "cells": [
  {
   "cell_type": "markdown",
   "metadata": {},
   "source": [
    "# Decision Tree(CART)\n"
   ]
  },
  {
   "cell_type": "raw",
   "metadata": {},
   "source": [
    "Classification and regression Algorithm"
   ]
  },
  {
   "cell_type": "code",
   "execution_count": 1806,
   "metadata": {},
   "outputs": [],
   "source": [
    "\n",
    "from csv import reader\n",
    "from collections import Counter \n",
    "\n",
    "def load_csv(filename):\n",
    "    file = open(filename, 'rt')\n",
    "    lines = reader(file)\n",
    "    dataset = [list(map( str,row)) for row in lines]\n",
    "    return dataset\n"
   ]
  },
  {
   "cell_type": "code",
   "execution_count": 1807,
   "metadata": {},
   "outputs": [],
   "source": [
    "def gini_index(n_in_class,n_yes,n_no):\n",
    "    if(n_in_class>0):\n",
    "        result = 1-pow((n_yes/n_in_class),2)-pow((n_no/n_in_class),2)\n",
    "    #     print(\"888888:\",pow((n_yes/n_in_class),2))\n",
    "        if(result<0):\n",
    "            result=0\n",
    "    else:\n",
    "        result=0\n",
    "    return result\n"
   ]
  },
  {
   "cell_type": "code",
   "execution_count": 1808,
   "metadata": {},
   "outputs": [],
   "source": [
    "def weighted_sum_gini (n_instance,prob):\n",
    "    return(0)\n",
    "    \n",
    "    "
   ]
  },
  {
   "cell_type": "code",
   "execution_count": 1809,
   "metadata": {},
   "outputs": [],
   "source": [
    "def decide_tree_root(data):\n",
    "    dataset=data[1:]\n",
    "    data_y = data[0:1]\n",
    "    class_set=[[] for _ in range(len(dataset[0]))]\n",
    "    for row in range(len(dataset)):\n",
    "        for i in range(len(dataset[row])):\n",
    "            class_set[i].append(dataset[row][i])\n",
    "    sum_weight=weighted_sum_root(class_set)\n",
    "    min_cost=sum_weight.index(min(sum_weight))\n",
    "    return (data_y[0][min_cost],sum_weight[min_cost],min_cost)\n",
    "        \n",
    "    "
   ]
  },
  {
   "cell_type": "code",
   "execution_count": 1810,
   "metadata": {},
   "outputs": [],
   "source": [
    "def weighted_sum_root(dataset):\n",
    "#     print(dataset)\n",
    "    class_set=([[] for _ in range(len(dataset)-1)])\n",
    "    count_prob=[]\n",
    "    prob_set=[]\n",
    "    temp_prob=[]\n",
    "    \n",
    "    result=dataset[len(dataset)-1]\n",
    "    for i in range(len(dataset)-1):\n",
    "        prob_set.append( list( dict.fromkeys(dataset[i]) ))\n",
    "\n",
    "        for j in range(len(dataset[i])):\n",
    "            class_set[i].append([dataset[i][j],result[j]])\n",
    "    count_prob_att=[]\n",
    "    count_prob_target=[]\n",
    "    for att in range(len(class_set)): #1 row\n",
    "        for prob_att in range(len(prob_set[att])):\n",
    "            p=0\n",
    "            n=0\n",
    "            target_prob = prob_set[att][prob_att]\n",
    "            for index in range(len(class_set[att])): #1set\n",
    "                x_sample = class_set[att][index][0]\n",
    "                y_sample = class_set[att][index][1]\n",
    "                if((x_sample == target_prob) and (y_sample =='Yes')):\n",
    "                    p+=1\n",
    "                elif((x_sample == target_prob) and (y_sample =='No')):\n",
    "                    n+=1\n",
    "            count_prob_target.append([target_prob,p,n])\n",
    "        count_prob_att.append(count_prob_target)\n",
    "        count_prob_target=[]\n",
    "        \n",
    "    weighted_sum_gini=[]\n",
    "    count_weight=0\n",
    "    for att in range(len(count_prob_att)):\n",
    "        for i in range(len(count_prob_att[att])):\n",
    "            event = count_prob_att[att][i][0]\n",
    "            n_positive = event = count_prob_att[att][i][1]\n",
    "            n_negative = event = count_prob_att[att][i][2]\n",
    "            n_sample = n_positive+n_negative\n",
    "            cost = gini_index(n_sample,n_positive,n_negative)\n",
    "            count_weight+=((n_sample/len(dataset[0]))*cost)\n",
    "        weighted_sum_gini.append(count_weight)\n",
    "        count_weight=0\n",
    "    return weighted_sum_gini"
   ]
  },
  {
   "cell_type": "code",
   "execution_count": 1811,
   "metadata": {},
   "outputs": [],
   "source": [
    "def pair_root(data,index_root):\n",
    "    \n",
    "    attr = (data[0])\n",
    "    attribute = attr[:]\n",
    "\n",
    "    attribute.pop(index_root)\n",
    "    attribute.pop(len(attribute)-1)\n",
    "\n",
    "    dataset=data[1:]\n",
    "    data_y = data[0:1]\n",
    "    prob_set=[]\n",
    "    class_set=[[] for _ in range(len(dataset[0])-1)]\n",
    "    for row in range(len(dataset)):\n",
    "\n",
    "        for i in range(len(dataset[row])-1):\n",
    "            class_set[i].append(dataset[row][i])\n",
    "\n",
    "    \n",
    "    for att in range (len(class_set)):\n",
    "        prob_set.append( list( dict.fromkeys(class_set[att]) ))\n",
    "        \n",
    "    n_positive=0\n",
    "    n_negative=0\n",
    "    result_set=[]\n",
    "    for event_prob_root in range(len(prob_set[index_root])):\n",
    "        path_set=[]\n",
    "        for event_prob_pair in range(len(prob_set)):\n",
    "            if(event_prob_pair != index_root):\n",
    "                count_weight=0\n",
    "                decision_set_weight=[]\n",
    "                for index_child in range(len(prob_set[event_prob_pair])):\n",
    "                    if(event_prob_pair != index_root):\n",
    "                        for row in range(len(dataset)):\n",
    "                            check_root = dataset[row][index_root] ==prob_set[index_root][event_prob_root]\n",
    "                            check_pair = dataset[row][event_prob_pair] ==prob_set[event_prob_pair][index_child]\n",
    "                            result = dataset[row][len(dataset[row])-1]\n",
    "                            if(check_root and check_pair and result==\"Yes\"):\n",
    "                                n_positive+=1\n",
    "                            if(check_root and check_pair and result==\"No\"):\n",
    "                                n_negative+=1\n",
    "                        n_sample=n_positive+n_negative\n",
    "                        cost = gini_index(n_sample,n_positive,n_negative)\n",
    "                        n_positive=0\n",
    "                        n_negative=0\n",
    "                        count_weight+=((n_sample/len(dataset[0]))*cost)\n",
    "\n",
    "                decision_set_weight.append(count_weight)\n",
    "                path_set.append(decision_set_weight)\n",
    "        result_set.append(path_set)\n",
    "    return prob_set,result_set"
   ]
  },
  {
   "cell_type": "code",
   "execution_count": 1812,
   "metadata": {},
   "outputs": [],
   "source": [
    "\n",
    "def calculate_path_layer(data,prob_set,result_set,index_root):\n",
    "    att=data[0]\n",
    "    attribute = att[:]\n",
    "    attribute.pop(index_root)\n",
    "    dataset=data[1:]\n",
    "    nd_set=prob_set[:]\n",
    "    nd_set.pop(index_root)\n",
    "    path=[]\n",
    "    for index in range(len(prob_set[index_root])):\n",
    "        min_cost=result_set[index].index(min(result_set[index]))\n",
    "        for i in range(len(nd_set[min_cost])):\n",
    "            case = (nd_set[min_cost][i])\n",
    "            for j in range(len(dataset)):\n",
    "#                 print(dataset[j][index_root],prob_set[index_root][index]  )\n",
    "                check_root = prob_set[index_root][index]  in dataset[j]\n",
    "                check_pair = case in dataset[j]\n",
    "                if(check_root and check_pair ):\n",
    "#                     print(\"in\",att[index_root],prob_set[index_root][index],attribute[min_cost],case,dataset[j][len(dataset[j])-1])\n",
    "                    result_data =[att[index_root],prob_set[index_root][index],attribute[min_cost],case,dataset[j][len(dataset[j])-1]]\n",
    "                    if(result_data not in (path)):\n",
    "                        path.append(result_data)\n",
    "    print(path)\n",
    "    return(path)"
   ]
  },
  {
   "cell_type": "code",
   "execution_count": 1813,
   "metadata": {
    "scrolled": true
   },
   "outputs": [
    {
     "name": "stdout",
     "output_type": "stream",
     "text": [
      "[['Outlook', 'Sunny', 'Humidity', 'High', 'No'], ['Outlook', 'Sunny', 'Humidity', 'Normal', 'Yes'], ['Outlook', 'Overcast', 'Temp.', 'Hot', 'Yes'], ['Outlook', 'Overcast', 'Temp.', 'Mild', 'Yes'], ['Outlook', 'Overcast', 'Temp.', 'Cool', 'Yes'], ['Outlook', 'Rain', 'Wind', 'Weak', 'Yes'], ['Outlook', 'Rain', 'Wind', 'Strong', 'No']]\n"
     ]
    }
   ],
   "source": [
    "\n",
    "dataset=(load_csv(\"data/golf_playing_decisions.csv\"))\n",
    "attr = (dataset[0])\n",
    "event_root,cost_root,index_root=decide_tree_root(dataset)\n",
    "prob_set,weight_path_pair=pair_root(dataset,index_root)\n",
    "path=calculate_path_layer(dataset,prob_set,weight_path_pair,index_root)\n"
   ]
  }
 ],
 "metadata": {
  "kernelspec": {
   "display_name": "Python 3",
   "language": "python",
   "name": "python3"
  },
  "language_info": {
   "codemirror_mode": {
    "name": "ipython",
    "version": 3
   },
   "file_extension": ".py",
   "mimetype": "text/x-python",
   "name": "python",
   "nbconvert_exporter": "python",
   "pygments_lexer": "ipython3",
   "version": "3.7.4"
  }
 },
 "nbformat": 4,
 "nbformat_minor": 2
}
